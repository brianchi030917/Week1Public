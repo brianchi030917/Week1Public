{
 "cells": [
  {
   "cell_type": "markdown",
   "source": "# Decision Tree Worksheet",
   "metadata": {
    "colab_type": "text",
    "id": "-UimMCmGe19F",
    "cell_id": "00000-a17bbd0c-936b-4d1f-bfc8-e616765c57a2",
    "deepnote_cell_type": "markdown"
   }
  },
  {
   "cell_type": "code",
   "metadata": {
    "tags": [],
    "cell_id": "00001-3ebf88da-1b94-49f1-8fce-710363a30a06",
    "deepnote_to_be_reexecuted": false,
    "source_hash": "ca10e547",
    "execution_start": 1625686959092,
    "execution_millis": 4801,
    "deepnote_cell_type": "code"
   },
   "source": "!pip install graphviz",
   "execution_count": null,
   "outputs": [
    {
     "name": "stdout",
     "text": "Collecting graphviz\n  Downloading graphviz-0.16-py2.py3-none-any.whl (19 kB)\nInstalling collected packages: graphviz\nSuccessfully installed graphviz-0.16\n\u001b[33mWARNING: You are using pip version 21.1.2; however, version 21.1.3 is available.\nYou should consider upgrading via the '/root/venv/bin/python -m pip install --upgrade pip' command.\u001b[0m\n",
     "output_type": "stream"
    }
   ]
  },
  {
   "cell_type": "code",
   "metadata": {
    "colab": {
     "autoexec": {
      "startup": false,
      "wait_interval": 0
     }
    },
    "colab_type": "code",
    "id": "kedW02LgKjVL",
    "cell_id": "00001-c3a1e231-0620-4e41-9bfb-126e240634bd",
    "deepnote_to_be_reexecuted": false,
    "source_hash": "eb9a879d",
    "execution_start": 1625686990884,
    "execution_millis": 4,
    "deepnote_cell_type": "code"
   },
   "source": "import numpy as np\nimport pandas as pd\nfrom sklearn.model_selection import train_test_split\nfrom sklearn.tree import DecisionTreeClassifier\nfrom sklearn.metrics import accuracy_score\nfrom sklearn import tree\nfrom sklearn.ensemble import RandomForestClassifier\nfrom sklearn import metrics\nimport graphviz\nimport matplotlib.pyplot as plt",
   "execution_count": null,
   "outputs": []
  },
  {
   "cell_type": "markdown",
   "source": "## Loading data\n\nLoad Pima diabetes dataset and split data, with test size 20% and validaton 20%.",
   "metadata": {
    "colab_type": "text",
    "id": "rz35eT5-SMht",
    "cell_id": "00002-e2b4cf2f-ab18-4c3d-a27e-cb9494cd9638",
    "deepnote_cell_type": "markdown"
   }
  },
  {
   "cell_type": "code",
   "metadata": {
    "colab": {
     "autoexec": {
      "startup": false,
      "wait_interval": 0
     }
    },
    "colab_type": "code",
    "id": "Ydh9gmDkMGmu",
    "cell_id": "00003-5bf0a911-8f0b-4156-b87f-79779a708c8b",
    "deepnote_to_be_reexecuted": false,
    "source_hash": "95d3a2b6",
    "execution_start": 1625687016979,
    "execution_millis": 27,
    "deepnote_cell_type": "code"
   },
   "source": "url = \"https://raw.githubusercontent.com/jbrownlee/Datasets/master/pima-indians-diabetes.data.csv\"\nnames = ['preg', 'plas', 'pres', 'skin', 'test', 'mass', 'pedi', 'age', 'class']\n\n## YOUR CODE HERE\ndata = pd.read_csv(url, names=names)\ndata.head() \n\n# Splitting data\nX_cols = ['preg', 'plas', 'pres', 'skin', 'test', 'mass', 'pedi', 'age']\ny_col = 'class'\n\ntest_size = 0.2\nX_train, X_test, y_train, y_test = train_test_split(data[X_cols], data[y_col], test_size=test_size, random_state=0)\nX_train, X_val, y_train, y_val = train_test_split(X_train, y_train, test_size=test_size, random_state=0)\n",
   "execution_count": null,
   "outputs": []
  },
  {
   "cell_type": "markdown",
   "source": "## Creating Model\n\nMake a model using sklearn's DecisionTreeClassifier, with a high max-depth and low minimum sample leafs.",
   "metadata": {
    "colab_type": "text",
    "id": "KAFhsJIsSpMR",
    "cell_id": "00004-6639bcea-5f35-47d7-b6ef-12778faac808",
    "deepnote_cell_type": "markdown"
   }
  },
  {
   "cell_type": "code",
   "metadata": {
    "colab": {
     "autoexec": {
      "startup": false,
      "wait_interval": 0
     }
    },
    "colab_type": "code",
    "id": "fHbA28aFS2DM",
    "cell_id": "00005-34b9ffb0-76e4-42f5-8e16-3f49f8c50e72",
    "deepnote_to_be_reexecuted": false,
    "source_hash": "4f49dec6",
    "execution_start": 1625687076217,
    "execution_millis": 31,
    "deepnote_cell_type": "code"
   },
   "source": "## YOUR CODE HERE\ndecision_tree = DecisionTreeClassifier(criterion = \"entropy\", random_state = None,\n                              max_depth=10, min_samples_leaf=2)  # minimum sample leafs is the minimum sample \n                                                                # amount the leaf can have\n\n# Training/fitting the model with training data\ndecision_tree.fit(X_train, y_train)",
   "execution_count": null,
   "outputs": [
    {
     "output_type": "execute_result",
     "execution_count": 10,
     "data": {
      "text/plain": "DecisionTreeClassifier(criterion='entropy', max_depth=10, min_samples_leaf=2)"
     },
     "metadata": {}
    }
   ]
  },
  {
   "cell_type": "markdown",
   "source": "Print accuracy of training and validation data.",
   "metadata": {
    "colab_type": "text",
    "id": "4_8DZinWTJRa",
    "cell_id": "00006-81e439d6-7a96-472e-9262-17c68e1d0b9e",
    "deepnote_cell_type": "markdown"
   }
  },
  {
   "cell_type": "code",
   "metadata": {
    "colab": {
     "autoexec": {
      "startup": false,
      "wait_interval": 0
     }
    },
    "colab_type": "code",
    "id": "EgByCP_EhyB2",
    "cell_id": "00007-e8d6f2e4-f39b-46a2-9d98-d51ee62690da",
    "deepnote_to_be_reexecuted": false,
    "source_hash": "fd9f9257",
    "execution_start": 1625687087466,
    "execution_millis": 4,
    "deepnote_cell_type": "code"
   },
   "source": "## YOUR CODE HERE\n# Printing accuracy of testing & training data\ny_train_pred=decision_tree.predict(X_train)\nprint(\"Training Accuracy is \", accuracy_score(y_train, y_train_pred)*100)\ny_val_pred=decision_tree.predict(X_val)\nprint(\"Validation Accuracy is \", accuracy_score(y_val,y_val_pred)*100)",
   "execution_count": null,
   "outputs": [
    {
     "name": "stdout",
     "text": "Training Accuracy is  91.44602851323829\nValidation Accuracy is  69.10569105691057\n",
     "output_type": "stream"
    }
   ]
  },
  {
   "cell_type": "markdown",
   "source": "Make a model with a low max-depth and higher minimum sample leafs.",
   "metadata": {
    "colab_type": "text",
    "id": "6HNa6fxbT6ak",
    "cell_id": "00008-6e91e88a-ef5c-4aed-8764-def8ee31374d",
    "deepnote_cell_type": "markdown"
   }
  },
  {
   "cell_type": "code",
   "metadata": {
    "colab": {
     "autoexec": {
      "startup": false,
      "wait_interval": 0
     },
     "base_uri": "https://localhost:8080/",
     "height": 17
    },
    "colab_type": "code",
    "executionInfo": {
     "elapsed": 287,
     "status": "ok",
     "timestamp": 1530627778885,
     "user": {
      "displayName": "john passarelli",
      "photoUrl": "https://lh3.googleusercontent.com/a/default-user=s128",
      "userId": "102241934905781120798"
     },
     "user_tz": 240
    },
    "id": "6Pbu-t_tiqnB",
    "outputId": "ef95b427-e6b4-41a7-f992-9826342b662c",
    "cell_id": "00009-dc03dee1-6581-4b23-bd62-24cf1243aa14",
    "deepnote_to_be_reexecuted": false,
    "source_hash": "5b6e4129",
    "execution_start": 1625687112841,
    "execution_millis": 64,
    "deepnote_cell_type": "code"
   },
   "source": "## YOUR CODE HERE\ndecision_tree = DecisionTreeClassifier(criterion = \"entropy\", random_state = None,\n                              max_depth=5, min_samples_leaf=3)  # minimum sample leafs is the minimum sample \n                                                                # amount the leaf can have\n\n# Training/fitting the model with training data\ndecision_tree.fit(X_train, y_train)",
   "execution_count": null,
   "outputs": [
    {
     "output_type": "execute_result",
     "execution_count": 12,
     "data": {
      "text/plain": "DecisionTreeClassifier(criterion='entropy', max_depth=5, min_samples_leaf=3)"
     },
     "metadata": {}
    }
   ]
  },
  {
   "cell_type": "markdown",
   "source": "Print accuracy of training and validation data.",
   "metadata": {
    "cell_id": "00010-7d8f485f-76b0-4e38-a2e5-088cb3280c4c",
    "deepnote_cell_type": "markdown"
   }
  },
  {
   "cell_type": "code",
   "metadata": {
    "cell_id": "00011-3f1ae7c6-a846-4695-94e8-22d5b70aa40e",
    "deepnote_to_be_reexecuted": false,
    "source_hash": "fd9f9257",
    "execution_start": 1625687118037,
    "execution_millis": 13,
    "deepnote_cell_type": "code"
   },
   "source": "## YOUR CODE HERE\n# Printing accuracy of testing & training data\ny_train_pred=decision_tree.predict(X_train)\nprint(\"Training Accuracy is \", accuracy_score(y_train, y_train_pred)*100)\ny_val_pred=decision_tree.predict(X_val)\nprint(\"Validation Accuracy is \", accuracy_score(y_val,y_val_pred)*100)",
   "execution_count": null,
   "outputs": [
    {
     "name": "stdout",
     "text": "Training Accuracy is  83.09572301425662\nValidation Accuracy is  70.73170731707317\n",
     "output_type": "stream"
    }
   ]
  },
  {
   "cell_type": "markdown",
   "source": "Explain the accuracy results below. \n\nHaving a higher max-depth and lower minimum sample leafs inn the decision tree algorithm caused overfittinng. ",
   "metadata": {
    "cell_id": "00012-9cf39459-b066-4108-a92c-db97336134c5",
    "deepnote_cell_type": "markdown"
   }
  },
  {
   "cell_type": "markdown",
   "source": "## Metrics",
   "metadata": {
    "cell_id": "00013-f73ddd54-5cd5-4d88-bfef-6e7d298889a7",
    "deepnote_cell_type": "markdown"
   }
  },
  {
   "cell_type": "markdown",
   "source": "Plot the ROC curve and print the AUC of the second model.",
   "metadata": {
    "cell_id": "00014-debf10c1-dd3b-46a5-ac8b-2371da3d5867",
    "deepnote_cell_type": "markdown"
   }
  },
  {
   "cell_type": "code",
   "metadata": {
    "cell_id": "00015-e99a7d62-9b22-4318-b695-8427017bfbcf",
    "deepnote_cell_type": "code"
   },
   "source": "## YOUR CODE HERE\nlabels = [0,1]\ny_val_prob = decision_tree.predict_proba(X_val,labels)\nfpr, tpr, thresholds = metrics.roc_curve(y_val, y_val_prob[:,1])\nroc_auc = metrics.auc(fpr, tpr)\nplt.figure(figsize=(6,6))\nlw = 2\nplt.plot(fpr, tpr, color='darkorange',\n         lw=lw, label='ROC curve (area = %0.2f)' % roc_auc)\nplt.plot([0, 1], [0, 1], color='navy', lw=lw, linestyle='--')\nplt.xlim([0.0, 1.0])\nplt.ylim([0.0, 1.0])\nplt.xlabel('False Positive Rate')\nplt.ylabel('True Positive Rate')\nplt.title('Receiver operating characteristic')\nplt.legend(loc=\"lower right\")\nplt.show()",
   "execution_count": null,
   "outputs": []
  },
  {
   "cell_type": "markdown",
   "source": "Use graphviz to visualize your 2nd tree.",
   "metadata": {
    "colab_type": "text",
    "id": "tKdqOMBKUvGZ",
    "cell_id": "00016-ceb0a3bf-53b7-4fda-95a1-8759c4cf9041",
    "deepnote_cell_type": "markdown"
   }
  },
  {
   "cell_type": "code",
   "metadata": {
    "colab": {
     "autoexec": {
      "startup": false,
      "wait_interval": 0
     }
    },
    "colab_type": "code",
    "id": "8o55bY_jl8gj",
    "cell_id": "00017-937c99ac-ed8f-4575-8a24-2033a69b5153",
    "deepnote_cell_type": "code"
   },
   "source": "## YOUR CODE HERE\ndot_data = tree.export_graphviz(decision_tree, out_file=None, filled=True)\n\ngraph = graphviz.Source(dot_data)\ngraph",
   "execution_count": 0,
   "outputs": []
  },
  {
   "cell_type": "markdown",
   "source": "#### Use the graph above to answer the questions below",
   "metadata": {
    "colab_type": "text",
    "id": "4iz4meWDVmo2",
    "cell_id": "00018-d531e6b3-0be6-4593-911a-1697ac904853",
    "deepnote_cell_type": "markdown"
   }
  },
  {
   "cell_type": "markdown",
   "source": "Question 1: What do you think X[n] represents in the nodes from the graph?\n\n(YOUR ANSWER HERE)",
   "metadata": {
    "colab_type": "text",
    "id": "u1yM9h10WUEv",
    "cell_id": "00019-51773616-e8a0-44ba-9e36-d70097fa5655",
    "deepnote_cell_type": "markdown"
   }
  },
  {
   "cell_type": "markdown",
   "source": "Question 2: What is the root feature? Does it make sense as the root feature?\n\n(YOUR ANSWER HERE)",
   "metadata": {
    "colab_type": "text",
    "id": "rA7B0oTaWUIe",
    "cell_id": "00020-2deceefe-565a-4b18-8401-7c83ec9bda5e",
    "deepnote_cell_type": "markdown"
   }
  },
  {
   "cell_type": "markdown",
   "source": "Question 3: If you were to change the parameters to have a max_depth of 500 and min_samples_leaf of 1, what do you think the effect would be on the test accuracy? Training accuracy?\n\n(YOUR ANSWER HERE)",
   "metadata": {
    "colab_type": "text",
    "id": "1t559pS3ZHES",
    "cell_id": "00021-e29e7b88-9eaf-4236-8c1d-c18d93258c0b",
    "deepnote_cell_type": "markdown"
   }
  },
  {
   "cell_type": "markdown",
   "source": "**Test your guesses, create a model with max_depth=500 and min_samples_leaf=1, and predict values for the training and validation data**",
   "metadata": {
    "colab_type": "text",
    "id": "7dnlqId2bIcR",
    "cell_id": "00022-ed72e79c-1fb3-44cb-b533-d47d428bf747",
    "deepnote_cell_type": "markdown"
   }
  },
  {
   "cell_type": "code",
   "metadata": {
    "colab": {
     "autoexec": {
      "startup": false,
      "wait_interval": 0
     },
     "base_uri": "https://localhost:8080/",
     "height": 17
    },
    "colab_type": "code",
    "executionInfo": {
     "elapsed": 235,
     "status": "ok",
     "timestamp": 1530627843330,
     "user": {
      "displayName": "john passarelli",
      "photoUrl": "https://lh3.googleusercontent.com/a/default-user=s128",
      "userId": "102241934905781120798"
     },
     "user_tz": 240
    },
    "id": "hnUQKX9vl9Gy",
    "outputId": "ebaa5e52-a33f-4749-a3f6-6a3fde24da1f",
    "cell_id": "00023-49fb46da-e9bc-4bf3-a37f-ba7898041e16",
    "deepnote_cell_type": "code"
   },
   "source": "## YOUR CODE HERE\n\ndecision_tree = DecisionTreeClassifier(criterion = \"entropy\", random_state = None,\n                              max_depth=500, min_samples_leaf=1)\ndecision_tree.fit(X_train, y_train)\n\ny_train_pred=decision_tree.predict(X_train)\nprint(\"Training Accuracy :\", accuracy_score(y_train, y_train_pred)*100, end = '%')\ny_val_pred=decision_tree.predict(X_val)\nprint(\"\\nValidation Accuracy :\", accuracy_score(y_val,y_val_pred)*100, end = '%')\n                            ",
   "execution_count": null,
   "outputs": []
  },
  {
   "cell_type": "markdown",
   "source": "# Random Forest",
   "metadata": {
    "colab_type": "text",
    "id": "40Psyt65pD8p",
    "cell_id": "00024-f6243122-11c3-4e0e-b411-2261dd2a6ce6",
    "deepnote_cell_type": "markdown"
   }
  },
  {
   "cell_type": "markdown",
   "source": "## Creating Model\n\nCreate a model with sklearn's RandomForestClassifier and predict values on your validation set.",
   "metadata": {
    "colab_type": "text",
    "id": "mjLu1MLIpGNF",
    "cell_id": "00025-9ac59e6e-64f7-43cb-9dc9-ee4523ef3599",
    "deepnote_cell_type": "markdown"
   }
  },
  {
   "cell_type": "code",
   "metadata": {
    "colab": {
     "autoexec": {
      "startup": false,
      "wait_interval": 0
     },
     "base_uri": "https://localhost:8080/",
     "height": 37
    },
    "colab_type": "code",
    "executionInfo": {
     "elapsed": 318,
     "status": "ok",
     "timestamp": 1530627847311,
     "user": {
      "displayName": "john passarelli",
      "photoUrl": "https://lh3.googleusercontent.com/a/default-user=s128",
      "userId": "102241934905781120798"
     },
     "user_tz": 240
    },
    "id": "TYwbpWxUfDIY",
    "outputId": "0008a18f-a9e3-4c04-b42e-adc8ce9aa966",
    "cell_id": "00026-de694ae1-f14e-428e-a672-14f3cfa91f97",
    "deepnote_cell_type": "code"
   },
   "source": "## YOUR CODE HERE\nrandom_forest = RandomForestClassifier(n_estimators=30)\n\n# Training/fitting the model with training data\nrandom_forest.fit(X_train, y_train)",
   "execution_count": null,
   "outputs": []
  },
  {
   "cell_type": "markdown",
   "source": "Print accuracy of training and validation data.",
   "metadata": {
    "colab_type": "text",
    "id": "6Ys_J3O4pd0u",
    "cell_id": "00027-37ee0acc-7ffe-4b8a-b287-d02e0827e18e",
    "deepnote_cell_type": "markdown"
   }
  },
  {
   "cell_type": "code",
   "metadata": {
    "colab": {
     "autoexec": {
      "startup": false,
      "wait_interval": 0
     },
     "base_uri": "https://localhost:8080/",
     "height": 17
    },
    "colab_type": "code",
    "executionInfo": {
     "elapsed": 337,
     "status": "ok",
     "timestamp": 1530627851278,
     "user": {
      "displayName": "john passarelli",
      "photoUrl": "https://lh3.googleusercontent.com/a/default-user=s128",
      "userId": "102241934905781120798"
     },
     "user_tz": 240
    },
    "id": "aQdfjEWdfDOH",
    "outputId": "751008b5-156c-4bea-d599-37f84bd1b60c",
    "cell_id": "00028-6dc8051a-5dab-40fd-8577-1a964ad85ec1",
    "deepnote_cell_type": "code"
   },
   "source": "## YOUR CODE HERE\ny_train_pred=random_forest.predict(X_train)\nprint(\"Training Accuracy :\", accuracy_score(y_train, y_train_pred)*100, end = '%')\ny_val_pred=random_forest.predict(X_val)\nprint(\"\\nValidation Accuracy : \", accuracy_score(y_val,y_val_pred)*100, end = '%')",
   "execution_count": null,
   "outputs": []
  },
  {
   "cell_type": "markdown",
   "source": "How did the accuracy compare to the decision tree's accuracy?\n\n(YOUR ANSWER HERE)",
   "metadata": {
    "cell_id": "00029-e39ef078-6e30-45dd-926b-bbb507b140eb",
    "deepnote_cell_type": "markdown"
   }
  },
  {
   "cell_type": "markdown",
   "source": "Print the 3 most important features (hint: sklearn has an attribute to help you find these)",
   "metadata": {
    "colab_type": "text",
    "id": "jGlSHxuUqAnX",
    "cell_id": "00030-5e94d202-3299-4773-8fe0-f4448bcb9862",
    "deepnote_cell_type": "markdown"
   }
  },
  {
   "cell_type": "code",
   "metadata": {
    "colab": {
     "autoexec": {
      "startup": false,
      "wait_interval": 0
     },
     "base_uri": "https://localhost:8080/",
     "height": 17
    },
    "colab_type": "code",
    "executionInfo": {
     "elapsed": 448,
     "status": "ok",
     "timestamp": 1530627855691,
     "user": {
      "displayName": "john passarelli",
      "photoUrl": "https://lh3.googleusercontent.com/a/default-user=s128",
      "userId": "102241934905781120798"
     },
     "user_tz": 240
    },
    "id": "5rVekWn0qw3r",
    "outputId": "d5e516d3-4f91-4394-b2e5-f26427b404ef",
    "cell_id": "00031-8c53bed0-f3ad-4d2c-9d15-a2d331c52695",
    "deepnote_cell_type": "code"
   },
   "source": "# ## YOUR CODE HERE\nfinal = []\nimportances = random_forest.feature_importances_\nprint(importances) #X_cols = ['preg', 'plas', 'pres', 'skin', 'test', 'mass', 'pedi', 'age']\nfor i, v in enumerate(importances):\n    final.append([v, i])\nprint(final)\nfinals = sorted(final)\nprint(finals)\nfinals[-3:]\n# age, mass, plas",
   "execution_count": null,
   "outputs": []
  },
  {
   "cell_type": "markdown",
   "source": "Find the accuracy for random forests with 1 to 100 trees, counting by 5. Print and then plot these accuracies.",
   "metadata": {
    "colab_type": "text",
    "id": "lynu8pLDtd0S",
    "cell_id": "00032-b66c2556-892c-4fe8-8399-f5699345b768",
    "deepnote_cell_type": "markdown"
   }
  },
  {
   "cell_type": "code",
   "metadata": {
    "colab": {
     "autoexec": {
      "startup": false,
      "wait_interval": 0
     },
     "base_uri": "https://localhost:8080/",
     "height": 17
    },
    "colab_type": "code",
    "executionInfo": {
     "elapsed": 371,
     "status": "ok",
     "timestamp": 1530627860158,
     "user": {
      "displayName": "john passarelli",
      "photoUrl": "https://lh3.googleusercontent.com/a/default-user=s128",
      "userId": "102241934905781120798"
     },
     "user_tz": 240
    },
    "id": "e2hG7npcuM7f",
    "outputId": "fb9e32ed-fb17-462e-a2f2-8db7964bb3d7",
    "cell_id": "00033-cc17e767-e961-47c5-b451-f98211db658d",
    "deepnote_cell_type": "code"
   },
   "source": "## YOUR CODE HERE\n\n#y_train_pred=random_forest.predict(X_train)\n#print(\"Training Accuracy :\", accuracy_score(y_train, y_train_pred)*100, end = '%')\n#y_val_pred = random_forest.predict(X_val)\n#print(\"\\nValidation Accuracy :\", accuracy_score(y_val,y_val_pred)*100, end = '%')\n\nacc = []\n\nfor i in range(1,101,5): \n    random_forest = RandomForestClassifier(n_estimators= i)\n    random_forest.fit(X_train, y_train)\n    y_train_pred=random_forest.predict(X_train)\n    y_val_pred=random_forest.predict(X_val)\n    acc.append(accuracy_score(y_train, y_train_pred)) \nprint(acc)\nplt.plot(acc)\n\n",
   "execution_count": null,
   "outputs": []
  },
  {
   "cell_type": "markdown",
   "source": "Plot the roc_curve using predict_proba a function for our random forest model, and metrics.roc_curve\n\nIt might help to google these functions and look at sklearn's documentation.",
   "metadata": {
    "cell_id": "00034-e51aa614-cd4a-40a3-9dcd-64e7966fbf1c",
    "deepnote_cell_type": "markdown"
   }
  },
  {
   "cell_type": "code",
   "metadata": {
    "cell_id": "00035-104f4dee-fe87-4866-ad6c-d7b4b3d97e90",
    "deepnote_cell_type": "code"
   },
   "source": "## YOUR CODE HERE\n#labels = [0,1]\ny_val_prob = random_forest.predict_proba(X_val)\nfpr, tpr, thresholds = metrics.roc_curve(y_val, y_val_prob[:,1])\nroc_auc = metrics.auc(fpr, tpr)\nplt.figure(figsize=(6,6))\nlw = 2\nplt.plot(fpr, tpr, color='darkorange',\n         lw=lw, label='ROC curve (area = %0.2f)' % roc_auc)\nplt.plot([0, 1], [0, 1], color='navy', lw=lw, linestyle='--')\nplt.xlim([0.0, 1.0])\nplt.ylim([0.0, 1.0])\nplt.xlabel('False Positive Rate')\nplt.ylabel('True Positive Rate')\nplt.title('Receiver operating characteristic')\nplt.legend(loc=\"lower right\")\nplt.show()",
   "execution_count": null,
   "outputs": []
  },
  {
   "cell_type": "markdown",
   "source": "<a style='text-decoration:none;line-height:16px;display:flex;color:#5B5B62;padding:10px;justify-content:end;' href='https://deepnote.com?utm_source=created-in-deepnote-cell&projectId=4f7541aa-d01a-41e6-8f8a-99605cee06da' target=\"_blank\">\n<img alt='Created in deepnote.com' style='display:inline;max-height:16px;margin:0px;margin-right:7.5px;' src='data:image/svg+xml;base64,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' > </img>\nCreated in <span style='font-weight:600;margin-left:4px;'>Deepnote</span></a>",
   "metadata": {
    "tags": [],
    "created_in_deepnote_cell": true,
    "deepnote_cell_type": "markdown"
   }
  }
 ],
 "nbformat": 4,
 "nbformat_minor": 1,
 "metadata": {
  "colab": {
   "collapsed_sections": [],
   "default_view": {},
   "name": "DecisionTreeWorksheetStudent",
   "provenance": [
    {
     "file_id": "165CSmT99w4_Sv1UENIyvIkH7ZEw2Xeh8",
     "timestamp": 1527780043079
    }
   ],
   "version": "0.3.2",
   "views": {}
  },
  "kernelspec": {
   "display_name": "Python 3",
   "language": "python",
   "name": "python3"
  },
  "language_info": {
   "codemirror_mode": {
    "name": "ipython",
    "version": 3
   },
   "file_extension": ".py",
   "mimetype": "text/x-python",
   "name": "python",
   "nbconvert_exporter": "python",
   "pygments_lexer": "ipython3",
   "version": "3.7.3"
  },
  "deepnote_notebook_id": "5160454b-8d9a-4d65-91ef-99b6d4c100e8",
  "deepnote": {},
  "deepnote_execution_queue": []
 }
}